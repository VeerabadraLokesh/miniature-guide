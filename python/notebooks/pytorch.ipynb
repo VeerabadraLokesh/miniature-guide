{
 "cells": [
  {
   "cell_type": "code",
   "execution_count": 41,
   "metadata": {},
   "outputs": [],
   "source": [
    "import torch\n",
    "import numpy as np"
   ]
  },
  {
   "cell_type": "code",
   "execution_count": 72,
   "metadata": {},
   "outputs": [
    {
     "name": "stdout",
     "output_type": "stream",
     "text": [
      "tensor([0.8415, 0.5952, 0.1283], requires_grad=True)\n",
      "tensor([2.8415, 2.5952, 2.1283], grad_fn=<AddBackward0>)\n",
      "tensor(12.8927, grad_fn=<MeanBackward0>)\n"
     ]
    }
   ],
   "source": [
    "\n",
    "x = torch.randn(3, requires_grad=True)\n",
    "print(x)\n",
    "\n",
    "y = x + 2\n",
    "print(y)\n",
    "\n",
    "z = y * y * 2\n",
    "z = z.mean()\n",
    "print(z)\n",
    "\n"
   ]
  },
  {
   "cell_type": "code",
   "execution_count": 60,
   "metadata": {},
   "outputs": [
    {
     "name": "stdout",
     "output_type": "stream",
     "text": [
      "[1. 1. 1. 1.]\n",
      "tensor([2., 2., 2., 2.])\n",
      "[2. 2. 2. 2.]\n",
      "cpu\n",
      "tensor([2., 2., 2., 2.], dtype=torch.float64) tensor([1., 1., 1., 1.])\n",
      "True\n",
      "tensor([1., 1., 1., 1.], device='cuda:0')\n",
      "cuda:0\n",
      "tensor([2., 2., 2., 2.])\n",
      "tensor([1., 1., 1., 1., 1.], requires_grad=True)\n"
     ]
    }
   ],
   "source": [
    "\n",
    "a = torch.ones(4)\n",
    "\n",
    "b = a.numpy()\n",
    "\n",
    "print(b)\n",
    "\n",
    "a.add_(1)\n",
    "print(a)\n",
    "print(b)\n",
    "\n",
    "print(a.device)\n",
    "\n",
    "a = np.ones(4)\n",
    "b = torch.from_numpy(a)\n",
    "c = torch.Tensor(a)\n",
    "a += 1\n",
    "print(b, c)\n",
    "\n",
    "print(torch.cuda.is_available())\n",
    "if torch.cuda.is_available():\n",
    "    device = torch.device(\"cuda\")\n",
    "    x = torch.ones(4, device = device)\n",
    "    print(x)\n",
    "    print(x.device)\n",
    "    y = torch.ones(4)\n",
    "    y = y.to(device)\n",
    "    z = x + y\n",
    "#     z.numpy() #error\n",
    "    z_cpu = z.to('cpu')\n",
    "    print(z_cpu)\n",
    "\n",
    "x = torch.ones(5, requires_grad=True)\n",
    "\n",
    "print(x)\n",
    "\n"
   ]
  },
  {
   "cell_type": "code",
   "execution_count": 43,
   "metadata": {
    "scrolled": false
   },
   "outputs": [
    {
     "name": "stdout",
     "output_type": "stream",
     "text": [
      "tensor([0.6151, 0.2720, 0.0029])\n",
      "tensor([-2.2944e+14])\n",
      "tensor([[-2.2944e+14,  4.5848e-41, -1.2144e+22],\n",
      "        [ 3.0638e-41,  4.4842e-44,  0.0000e+00],\n",
      "        [ 1.5695e-43,  0.0000e+00, -1.2067e+22]])\n",
      "tensor([[0.9572, 0.5296],\n",
      "        [0.0850, 0.9943]])\n",
      "tensor([[1, 1],\n",
      "        [1, 1]], dtype=torch.int32)\n",
      "torch.int32\n",
      "tensor([3, 2, 4, 3])\n",
      "tensor([[0.4706],\n",
      "        [0.9977],\n",
      "        [0.2153],\n",
      "        [0.8891]])\n",
      "tensor([[3.4706, 2.4706, 4.4706, 3.4706],\n",
      "        [3.9977, 2.9977, 4.9977, 3.9977],\n",
      "        [3.2153, 2.2153, 4.2153, 3.2153],\n",
      "        [3.8891, 2.8891, 4.8891, 3.8891]])\n",
      "tensor([[3.4706, 2.4706, 4.4706, 3.4706],\n",
      "        [3.9977, 2.9977, 4.9977, 3.9977],\n",
      "        [3.2153, 2.2153, 4.2153, 3.2153],\n",
      "        [3.8891, 2.8891, 4.8891, 3.8891]])\n",
      "tensor([3.2569, 2.4873, 4.2605, 3.1727])\n",
      "tensor([-0.2569, -0.4873, -0.2605, -0.1727])\n",
      "tensor([ 9.7707,  4.9747, 17.0419,  9.5180])\n",
      "tensor([0.9211, 0.8041, 0.9389, 0.9456])\n",
      "tensor([[0.6724, 0.1857],\n",
      "        [0.3089, 0.0494],\n",
      "        [0.8947, 0.9571],\n",
      "        [0.4142, 0.9277],\n",
      "        [0.0652, 0.9439]])\n",
      "0.6723647713661194\n",
      "tensor([[0.6724, 0.1857, 0.6515, 0.3089, 0.0494],\n",
      "        [0.4783, 0.8947, 0.9571, 0.5847, 0.4142],\n",
      "        [0.9277, 0.7736, 0.0652, 0.9439, 0.1417]])\n",
      "tensor([0.6724, 0.1857, 0.6515, 0.3089, 0.0494, 0.4783, 0.8947, 0.9571, 0.5847,\n",
      "        0.4142, 0.9277, 0.7736, 0.0652, 0.9439, 0.1417])\n"
     ]
    }
   ],
   "source": [
    "\n",
    "\n",
    "x = torch.rand(3)\n",
    "\n",
    "print(x)\n",
    "\n",
    "torch.cuda.is_available()\n",
    "\n",
    "x = torch.empty(1)\n",
    "print(x)\n",
    "x = torch.empty(3, 3)\n",
    "print(x)\n",
    "\n",
    "x = torch.rand(2, 2)\n",
    "print(x)\n",
    "\n",
    "x = torch.ones(2, 2, dtype=torch.int)\n",
    "print(x)\n",
    "\n",
    "print(x.dtype)\n",
    "\n",
    "x = torch.tensor([3, 2, 4, 3])\n",
    "print(x)\n",
    "\n",
    "y = torch.rand(4, 1)\n",
    "\n",
    "z = x + y\n",
    "\n",
    "print(y)\n",
    "print(z)\n",
    "\n",
    "z = torch.add(x, y)\n",
    "print(z)\n",
    "\n",
    "y = torch.rand(x.shape)\n",
    "y.add_(x)\n",
    "print(y)\n",
    "\n",
    "z = torch.sub(x, y)\n",
    "print(z)\n",
    "\n",
    "z = torch.mul(x, y)\n",
    "print(z)\n",
    "\n",
    "z = torch.div(x, y)\n",
    "print(z)\n",
    "\n",
    "x = torch.rand(5, 3)\n",
    "print(x[:, :2])\n",
    "\n",
    "print(x[0, 0].item())\n",
    "\n",
    "y = x.view(3, 5)\n",
    "print(y)\n",
    "z = x.view(15)\n",
    "print(z)\n",
    "\n"
   ]
  }
 ],
 "metadata": {
  "kernelspec": {
   "display_name": "Python 3",
   "language": "python",
   "name": "python3"
  },
  "language_info": {
   "codemirror_mode": {
    "name": "ipython",
    "version": 3
   },
   "file_extension": ".py",
   "mimetype": "text/x-python",
   "name": "python",
   "nbconvert_exporter": "python",
   "pygments_lexer": "ipython3",
   "version": "3.8.3"
  }
 },
 "nbformat": 4,
 "nbformat_minor": 4
}
