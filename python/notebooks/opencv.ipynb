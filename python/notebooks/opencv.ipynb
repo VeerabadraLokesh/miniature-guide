{
 "cells": [
  {
   "cell_type": "code",
   "execution_count": 3,
   "metadata": {},
   "outputs": [],
   "source": [
    "\n",
    "import os\n",
    "import random\n",
    "import cv2\n",
    "import matplotlib.pyplot as plt\n",
    "\n",
    "\n",
    "img_bgr = cv2.imread('hnr.jpg')\n",
    "\n",
    "if img_bgr is not None:\n",
    "\n",
    "    img_ngv = 255 - img_bgr\n",
    "\n",
    "    # plt.imshow(img_ngv) \n",
    "    # plt.show() \n",
    "\n",
    "    cv2.imwrite('hnr_bw.jpg', img_ngv)\n",
    "\n",
    "\n",
    "    video_name = 'hnr.avi'\n",
    "\n",
    "    height, width, layers = img_bgr.shape\n",
    "\n",
    "    video = cv2.VideoWriter(video_name, 0, 30, (width, height))\n",
    "\n",
    "    for i in range(60):\n",
    "        if random.random() > 0.95:\n",
    "            for j in range(5):\n",
    "                video.write(img_ngv)\n",
    "            for j in range(5):\n",
    "                video.write(img_bgr)\n",
    "            for j in range(5):\n",
    "                video.write(img_ngv)\n",
    "        else:\n",
    "            video.write(img_bgr)\n",
    "\n",
    "    video.release()\n",
    "    !rm -f hnr.gif\n",
    "    !ffmpeg -loglevel quiet -i hnr.avi -t 10 hnr.gif\n",
    "    !rm -f hnr.avi\n"
   ]
  },
  {
   "cell_type": "code",
   "execution_count": 10,
   "metadata": {},
   "outputs": [],
   "source": [
    "# help(cv2.VideoWriter)"
   ]
  }
 ],
 "metadata": {
  "kernelspec": {
   "display_name": "Python 3",
   "language": "python",
   "name": "python3"
  },
  "language_info": {
   "codemirror_mode": {
    "name": "ipython",
    "version": 3
   },
   "file_extension": ".py",
   "mimetype": "text/x-python",
   "name": "python",
   "nbconvert_exporter": "python",
   "pygments_lexer": "ipython3",
   "version": "3.7.3"
  }
 },
 "nbformat": 4,
 "nbformat_minor": 2
}
