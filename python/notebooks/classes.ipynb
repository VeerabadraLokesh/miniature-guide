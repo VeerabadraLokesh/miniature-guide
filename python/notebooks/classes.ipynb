{
 "cells": [
  {
   "cell_type": "code",
   "execution_count": 17,
   "metadata": {},
   "outputs": [
    {
     "name": "stdout",
     "output_type": "stream",
     "text": [
      "True\n",
      "Person\n",
      "True\n",
      "True\n"
     ]
    }
   ],
   "source": [
    "\n",
    "\n",
    "class Person:\n",
    "    name = \"John\"\n",
    "    age = 36\n",
    "    country = \"Norway\"\n",
    "\n",
    "\n",
    "\n",
    "x = hasattr(Person, 'age')\n",
    "\n",
    "print(x)\n",
    "\n",
    "\n",
    "p = Person()\n",
    "print(p.__class__.__name__)\n",
    "print(hasattr(p.__class__, 'age'))\n",
    "\n",
    "\n",
    "\n",
    "d = {\n",
    "    'a': 'b'\n",
    "}\n",
    "print(hasattr(d, 'keys'))"
   ]
  }
 ],
 "metadata": {
  "kernelspec": {
   "display_name": "Python 3",
   "language": "python",
   "name": "python3"
  },
  "language_info": {
   "codemirror_mode": {
    "name": "ipython",
    "version": 3
   },
   "file_extension": ".py",
   "mimetype": "text/x-python",
   "name": "python",
   "nbconvert_exporter": "python",
   "pygments_lexer": "ipython3",
   "version": "3.8.3"
  }
 },
 "nbformat": 4,
 "nbformat_minor": 4
}
