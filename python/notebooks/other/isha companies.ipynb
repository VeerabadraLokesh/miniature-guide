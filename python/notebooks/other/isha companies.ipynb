{
 "cells": [
  {
   "cell_type": "code",
   "execution_count": 2,
   "metadata": {},
   "outputs": [
    {
     "name": "stdout",
     "output_type": "stream",
     "text": [
      "Trishul Shelters Private Limited\n",
      "Uzhavan Agro Solutions Private Limited\n",
      "Isha Naturo Organic Solutions Private Limited\n",
      "Isha Arogya Private Limited\n",
      "Isha Foods and Spices Private Limited\n",
      "Isha Institute of Inner Sciences\n",
      "Trishul Foundations Private Limited\n",
      "Isha Crafts Private Limited\n",
      "Isha Beauty Products & Wellness Private Limited\n",
      "Isha Capital Private Limited\n",
      "Isha Life Fitness System Private Limited\n",
      "Isha Naturo Organic Solutions Private Limited\n",
      "Isha Business Private Limited\n",
      "Isha Arogya Private Limited\n",
      "Isha Life Research Foundation\n",
      "Krishi Land Farms Private Limited\n"
     ]
    }
   ],
   "source": [
    "# \n",
    "\n",
    "\n",
    "## source: https://www.savukkuonline.com/13378/\n",
    "\n",
    "companies = [\n",
    "    'Trishul Shelters Private Limited, W.Complex, No.260, Avarampalayam Road, Coimbatore 641044.',\n",
    "    'Uzhavan Agro Solutions Private Limited, No.38/1, Kasthuribai Street, Kugalur Post, Gobi Taluk, Erode. TN 638 316',\n",
    "    'Isha Naturo Organic Solutions Private Limited, 17, Govindasamy Naidu Layout, Singanallur,              Coimbatore 641 005',\n",
    "    'Isha Arogya Private Limited, 17, Govindasamy Naidu Layout, Singanallur, Coimbatore 641 005.',\n",
    "    'Isha Foods and Spices Private Limited, No.20, 9th Street, Tatabad, Coimbatore 641012 ‘',\n",
    "    'Isha Institute of Inner Sciences, Vellingiri Foothills, Semmedu Post, Coimbatore 641 114.',\n",
    "    'Trishul Foundations Private Limited, W.Complex, No.260, Avarampalayam Road, Coimbatore 641044',\n",
    "    'Isha Crafts Private Limited, No.17, Govindasamy Naidu Layout, Singanallur, Coimbatore 641 005.',\n",
    "    'Isha Beauty Products & Wellness Private Limited,  Khasra 504, Next to NDMC Girls School, Rajokri,            New Delhi 110 038',\n",
    "    'Isha Capital Private Limited, No.15, 1st Floor, Govindasamy Naidu Layout, Singanallur, Coimbatore 641 005.',\n",
    "    'Isha Life Fitness System Private Limited, No.17, Govindasamy Naidu Layout, Singanallur,                Coimbatore 641 005.',\n",
    "    'Isha Naturo Organic Solutions Private Limited, No.17, Govindasamy Naidu Layout, Singanallur,        Coimbatore 641 005.',\n",
    "    'Isha Business Private Limited, No.17, Govindasamy Naidu Layout, Singanallur, Coimbatore 641 005.',\n",
    "    'Isha Arogya Private Limited, No.17, Govindasamy Naidu Layout, Singanallur, Coimbatore 641 005.',\n",
    "    'Isha Life Research Foundation, No.17, Govindasamy Naidu Layout, Singanallur, Coimbatore 641 005.',\n",
    "    'Krishi Land Farms Private Limited, Osho Drive, Gadaipur, Mehruli, New Delhi 110 030.'\n",
    "]\n",
    "\n",
    "for c in companies:\n",
    "    print(c.split(',')[0])"
   ]
  }
 ],
 "metadata": {
  "kernelspec": {
   "display_name": "Python 3",
   "language": "python",
   "name": "python3"
  },
  "language_info": {
   "codemirror_mode": {
    "name": "ipython",
    "version": 3
   },
   "file_extension": ".py",
   "mimetype": "text/x-python",
   "name": "python",
   "nbconvert_exporter": "python",
   "pygments_lexer": "ipython3",
   "version": "3.8.3"
  }
 },
 "nbformat": 4,
 "nbformat_minor": 4
}
