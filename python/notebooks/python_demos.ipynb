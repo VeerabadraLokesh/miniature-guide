{
 "cells": [
  {
   "cell_type": "code",
   "execution_count": 1,
   "metadata": {},
   "outputs": [
    {
     "name": "stdout",
     "output_type": "stream",
     "text": [
      "[0, 1, 2, 3, 4, 5, 6, 7, 8]\n"
     ]
    }
   ],
   "source": [
    "\n",
    "\n",
    "a = [i for i in range(10)]\n",
    "\n",
    "print(a[:-1])\n",
    "\n",
    "def minion_game(string):\n",
    "    # your code goes here\n",
    "    stuart = 0\n",
    "    kevin = 0\n",
    "    \n",
    "    for s in range(len(string)):\n",
    "        if string[s] in 'AEIOU':\n",
    "            kevin += len(string) - s\n",
    "        else:\n",
    "            stuart += len(string) - s\n",
    "    \n",
    "    if stuart > kevin:\n",
    "        print('Stuart', stuart)\n",
    "    elif kevin > stuart:\n",
    "        print('Kevin', kevin)\n",
    "    else:\n",
    "        print('Draw')\n"
   ]
  },
  {
   "cell_type": "code",
   "execution_count": 17,
   "metadata": {},
   "outputs": [
    {
     "name": "stdout",
     "output_type": "stream",
     "text": [
      "{'e': 'e', 'a': 'a', 'b': 'b', 'd': 'd', 'c': 'c'}\n",
      "OrderedDict([('a', 'a'), ('b', 'b')])\n"
     ]
    }
   ],
   "source": [
    "\n",
    "\n",
    "from collections import OrderedDict\n",
    "\n",
    "\n",
    "normal_dictionary = {}\n",
    "\n",
    "normal_dictionary['e'] = 'e'\n",
    "normal_dictionary['a'] = 'a'\n",
    "normal_dictionary['b'] = 'b'\n",
    "normal_dictionary['d'] = 'd'\n",
    "normal_dictionary['c'] = 'c'\n",
    "\n",
    "print(normal_dictionary)\n",
    "\n",
    "ordered_dictionary = OrderedDict()\n",
    "\n",
    "ordered_dictionary['b'] = 'b'\n",
    "ordered_dictionary['a'] = 'a'\n",
    "del ordered_dictionary['b']\n",
    "ordered_dictionary['b'] = 'b'\n",
    "\n",
    "print(ordered_dictionary)\n",
    "\n",
    "\n",
    "n = 0 #int(input().strip())\n",
    "ordered_dict = OrderedDict()\n",
    "for i in range(n):\n",
    "    inp = input().strip().split(' ')\n",
    "    item = ' '.join(inp[:-1])\n",
    "    price = int(inp[-1])\n",
    "    if item in ordered_dict:\n",
    "        price += ordered_dict[item]\n",
    "#         del ordered_dict[item]\n",
    "    ordered_dict[item] = price\n",
    "\n",
    "for i, v in ordered_dict.items():\n",
    "    print(i, v)"
   ]
  },
  {
   "cell_type": "code",
   "execution_count": 45,
   "metadata": {},
   "outputs": [
    {
     "name": "stdout",
     "output_type": "stream",
     "text": [
      "testuser@example.com\n",
      "testuser\n",
      "example\n",
      "com\n",
      "('testuser', 'example', 'com')\n",
      "('testuser', 'example', 'com')\n",
      "{'username': 'testuser', 'website': 'example', 'extension': 'com'}\n",
      "l\n"
     ]
    }
   ],
   "source": [
    "\n",
    "import re\n",
    "\n",
    "m = re.match(r'(\\w+)@(\\w+)\\.(\\w+)', 'testuser@example.com')\n",
    "\n",
    "print(m.group(0))\n",
    "print(m.group(1))\n",
    "print(m.group(2))\n",
    "print(m.group(3))\n",
    "print(m.group(1, 2, 3))\n",
    "\n",
    "print(m.groups())\n",
    "\n",
    "m = re.match(r'(?P<username>\\w+)@(?P<website>\\w+)\\.(?P<extension>\\w+)','testuser@example.com')\n",
    "print(m.groupdict())\n",
    "\n",
    "test_string = \",hello123\"\n",
    "m = re.search(r'([a-z0-9])\\1+', test_string)\n",
    "if m:\n",
    "    print(m.group(0)[0])\n",
    "else:\n",
    "    print(-1)"
   ]
  }
 ],
 "metadata": {
  "kernelspec": {
   "display_name": "Python 3",
   "language": "python",
   "name": "python3"
  },
  "language_info": {
   "codemirror_mode": {
    "name": "ipython",
    "version": 3
   },
   "file_extension": ".py",
   "mimetype": "text/x-python",
   "name": "python",
   "nbconvert_exporter": "python",
   "pygments_lexer": "ipython3",
   "version": "3.7.3"
  }
 },
 "nbformat": 4,
 "nbformat_minor": 2
}
