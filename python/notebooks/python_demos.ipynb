{
 "cells": [
  {
   "cell_type": "code",
   "execution_count": 1,
   "metadata": {},
   "outputs": [
    {
     "name": "stdout",
     "output_type": "stream",
     "text": [
      "[0, 1, 2, 3, 4, 5, 6, 7, 8]\n"
     ]
    }
   ],
   "source": [
    "\n",
    "\n",
    "a = [i for i in range(10)]\n",
    "\n",
    "print(a[:-1])\n",
    "\n",
    "def minion_game(string):\n",
    "    # your code goes here\n",
    "    stuart = 0\n",
    "    kevin = 0\n",
    "    \n",
    "    for s in range(len(string)):\n",
    "        if string[s] in 'AEIOU':\n",
    "            kevin += len(string) - s\n",
    "        else:\n",
    "            stuart += len(string) - s\n",
    "    \n",
    "    if stuart > kevin:\n",
    "        print('Stuart', stuart)\n",
    "    elif kevin > stuart:\n",
    "        print('Kevin', kevin)\n",
    "    else:\n",
    "        print('Draw')\n"
   ]
  },
  {
   "cell_type": "code",
   "execution_count": 17,
   "metadata": {},
   "outputs": [
    {
     "name": "stdout",
     "output_type": "stream",
     "text": [
      "{'e': 'e', 'a': 'a', 'b': 'b', 'd': 'd', 'c': 'c'}\n",
      "OrderedDict([('a', 'a'), ('b', 'b')])\n"
     ]
    }
   ],
   "source": [
    "\n",
    "\n",
    "from collections import OrderedDict\n",
    "\n",
    "\n",
    "normal_dictionary = {}\n",
    "\n",
    "normal_dictionary['e'] = 'e'\n",
    "normal_dictionary['a'] = 'a'\n",
    "normal_dictionary['b'] = 'b'\n",
    "normal_dictionary['d'] = 'd'\n",
    "normal_dictionary['c'] = 'c'\n",
    "\n",
    "print(normal_dictionary)\n",
    "\n",
    "ordered_dictionary = OrderedDict()\n",
    "\n",
    "ordered_dictionary['b'] = 'b'\n",
    "ordered_dictionary['a'] = 'a'\n",
    "del ordered_dictionary['b']\n",
    "ordered_dictionary['b'] = 'b'\n",
    "\n",
    "print(ordered_dictionary)\n",
    "\n",
    "\n",
    "n = 0 #int(input().strip())\n",
    "ordered_dict = OrderedDict()\n",
    "for i in range(n):\n",
    "    inp = input().strip().split(' ')\n",
    "    item = ' '.join(inp[:-1])\n",
    "    price = int(inp[-1])\n",
    "    if item in ordered_dict:\n",
    "        price += ordered_dict[item]\n",
    "#         del ordered_dict[item]\n",
    "    ordered_dict[item] = price\n",
    "\n",
    "for i, v in ordered_dict.items():\n",
    "    print(i, v)"
   ]
  },
  {
   "cell_type": "code",
   "execution_count": 45,
   "metadata": {},
   "outputs": [
    {
     "name": "stdout",
     "output_type": "stream",
     "text": [
      "testuser@example.com\n",
      "testuser\n",
      "example\n",
      "com\n",
      "('testuser', 'example', 'com')\n",
      "('testuser', 'example', 'com')\n",
      "{'username': 'testuser', 'website': 'example', 'extension': 'com'}\n",
      "l\n"
     ]
    }
   ],
   "source": [
    "\n",
    "import re\n",
    "\n",
    "m = re.match(r'(\\w+)@(\\w+)\\.(\\w+)', 'testuser@example.com')\n",
    "\n",
    "print(m.group(0))\n",
    "print(m.group(1))\n",
    "print(m.group(2))\n",
    "print(m.group(3))\n",
    "print(m.group(1, 2, 3))\n",
    "\n",
    "print(m.groups())\n",
    "\n",
    "m = re.match(r'(?P<username>\\w+)@(?P<website>\\w+)\\.(?P<extension>\\w+)','testuser@example.com')\n",
    "print(m.groupdict())\n",
    "\n",
    "test_string = \",hello123\"\n",
    "m = re.search(r'([a-z0-9])\\1+', test_string)\n",
    "if m:\n",
    "    print(m.group(0)[0])\n",
    "else:\n",
    "    print(-1)"
   ]
  },
  {
   "cell_type": "code",
   "execution_count": 14,
   "metadata": {},
   "outputs": [
    {
     "name": "stdout",
     "output_type": "stream",
     "text": [
      "deque([0, 1])\n",
      "deque(['2', '3', '1', '0'])\n",
      "1\n",
      "deque(['3', '1'])\n",
      "deque(['2', '1'])\n",
      "deque(['1', '2'])\n",
      "deque(['1', '2', '2', '3', '4', '5'])\n",
      "deque(['4', '5', '1', '2', '2', '3'])\n"
     ]
    }
   ],
   "source": [
    "from collections import deque\n",
    "\n",
    "d = deque()\n",
    "\n",
    "d.append(1)\n",
    "\n",
    "d.appendleft(0)\n",
    "\n",
    "print(d)\n",
    "\n",
    "d.clear()\n",
    "\n",
    "d.extend('10')\n",
    "\n",
    "d.extendleft('32')\n",
    "\n",
    "print(d)\n",
    "\n",
    "print(d.count('1'))\n",
    "\n",
    "d.popleft()\n",
    "\n",
    "d.pop()\n",
    "\n",
    "print(d)\n",
    "\n",
    "d.remove('3')\n",
    "\n",
    "d.extendleft('2')\n",
    "\n",
    "print(d)\n",
    "\n",
    "d.reverse()\n",
    "\n",
    "print(d)\n",
    "\n",
    "d.extend('2345')\n",
    "\n",
    "print(d)\n",
    "d.rotate(2)\n",
    "print(d)\n",
    "\n",
    "## https://www.hackerrank.com/challenges/py-collections-deque/forum\n",
    "\n",
    "# from collections import deque\n",
    "# d = deque()\n",
    "# for _ in range(int(input())):\n",
    "#     inp = input().split()\n",
    "#     getattr(d, inp[0])(*[inp[1]] if len(inp) > 1 else [])\n",
    "# print(*[item for item in d])\n",
    "\n",
    "# from collections import deque\n",
    "# d = deque()\n",
    "# for _ in range(int(input())):\n",
    "#     cmd, *args = input().split()\n",
    "#     getattr(d, cmd)(*args)\n",
    "# [print(x, end=' ') for x in d]\n",
    "\n",
    "#  getattr(d, inp[0])(*inp[1:])"
   ]
  },
  {
   "cell_type": "code",
   "execution_count": 1,
   "metadata": {},
   "outputs": [
    {
     "data": {
      "text/plain": [
       "[<matplotlib.lines.Line2D at 0x7f4a96d67850>]"
      ]
     },
     "execution_count": 1,
     "metadata": {},
     "output_type": "execute_result"
    },
    {
     "data": {
      "image/png": "[encoded data removed]",
      "text/plain": [
       "<Figure size 432x288 with 1 Axes>"
      ]
     },
     "metadata": {
      "needs_background": "light"
     },
     "output_type": "display_data"
    }
   ],
   "source": [
    "\n",
    "from matplotlib.pyplot import plot as plt\n",
    "import numpy as np\n",
    "\n",
    "a = np.array([[-4.103180691403921, -5.945523220726647],\n",
    "[-5.335344490475339, -6.031058024774733],\n",
    "[-5.643551575023546, -5.508578451478297],\n",
    "[-4.411387775952128, -5.4230436474302115]])\n",
    "\n",
    "# plt(a[:, 0], a[:, 1])\n",
    "\n",
    "\n",
    "# a = np.array([[-0.7307032590051459, 0.04526748971193417, 0],\n",
    "# [0.012006861063464935, 0.8024691358024691, 0],\n",
    "# [0.4819897084048028, -0.8847736625514404, 0],\n",
    "# [-0.5060034305317325, -0.8148148148148149, 0]])\n",
    "# plt(a[:, 0], a[:, 1])\n",
    "\n",
    "# a = np.array([[-0.4082482904636969, -0.2868771599652525, 0.07369800242653007],\n",
    "# [1.340211630460492e-13, -0.9794598902897671, 0.061160736185943025],\n",
    "# [0.40824829046396494, -0.286877159965574, 0.07369800242653007],\n",
    "# [0.40824829046396494, 0.6925827303241932, 0.05596763047401124],\n",
    "# [1.340211630460492e-13, 1.3851654606487078, 0.06850489671459828],\n",
    "# [-0.4082482904636969, 0.6925827303245147, 0.05596763047401124]])\n",
    "# plt(a[:, 0], a[:, 1])\n",
    "\n",
    "# a = np.array([[-0.11825498783576865, -0.08309809460200393, 0],\n",
    "# [0, -0.2837146415977961, 0],\n",
    "# [0.11825498783576865, -0.08309809460209706, 0],\n",
    "# [0.11825498783576865, 0.20061654699565243, 0],\n",
    "# [0, 0.4012330939914445, 0],\n",
    "# [-0.11825498783576865, 0.20061654699574555, 0]])\n",
    "# plt(a[:, 0], a[:, 1])\n",
    "\n",
    "# a = np.array([[0.046312178387650116, 0.8436213991769548, 0],\n",
    "# [0.37564322469982847, -0.7777777777777777, 0],\n",
    "# [-0.4202401372212693, -0.7818930041152263, 0]])\n",
    "# plt(a[:, 0], a[:, 1])\n",
    "\n",
    "# a = np.array([[-11.825498783576865, -8.309809460200393, 0],\n",
    "# [0, -28.37146415977961, 0],\n",
    "# [11.825498783576865, -8.309809460209706, 0],\n",
    "# [11.825498783576865, 20.061654699565242, 0],\n",
    "# [0, 40.12330939914445, 0],\n",
    "# [-11.825498783576865, 20.061654699574554, 0]])\n",
    "# plt(a[:, 0], a[:, 1])\n",
    "\n",
    "# a = np.array([[4.631217838765012, 84.36213991769547, 0],\n",
    "# [37.56432246998285, -77.77777777777777, 0],\n",
    "# [-42.02401372212693, -78.18930041152264, 0]])\n",
    "# plt(a[:, 0], a[:, 1])\n",
    "\n",
    "a = np.array([[-0.6929974385641064, 0.027602041329071594, 0],\n",
    "[0.12349914236443142, -1.3575634193203159, 0],\n",
    "[0.93999572329185, 0.027602041329071594, 0],\n",
    "[0.93999572329185, 1.9865218219087777, 0],\n",
    "[0.12349914236443142, 3.3716872825581654, 0],\n",
    "[-0.6929974385641064, 1.9865218219087777, 0]])\n",
    "plt(a[:, 0], a[:, 1])\n",
    "\n",
    "a = np.array([[-0.6226415094339622, 0.831275720164609, 0],\n",
    "[0.8816466552315609, 0.8765432098765432, 0],\n",
    "[0.5797598627787306, -0.9176954732510287, 0],\n",
    "[-0.6775300171526586, -0.8641975308641976, 0]])\n",
    "plt(a[:, 0], a[:, 1])"
   ]
  }
 ],
 "metadata": {
  "kernelspec": {
   "display_name": "Python 3",
   "language": "python",
   "name": "python3"
  },
  "language_info": {
   "codemirror_mode": {
    "name": "ipython",
    "version": 3
   },
   "file_extension": ".py",
   "mimetype": "text/x-python",
   "name": "python",
   "nbconvert_exporter": "python",
   "pygments_lexer": "ipython3",
   "version": "3.8.5"
  }
 },
 "nbformat": 4,
 "nbformat_minor": 2
}
