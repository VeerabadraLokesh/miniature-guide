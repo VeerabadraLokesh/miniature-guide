{
 "cells": [
  {
   "cell_type": "code",
   "execution_count": 1,
   "metadata": {},
   "outputs": [
    {
     "name": "stdout",
     "output_type": "stream",
     "text": [
      "(2, 2)\n",
      "[[1 2 3 4]]\n",
      "[[1]\n",
      " [2]\n",
      " [3]\n",
      " [4]]\n",
      "[[1 2 3]\n",
      " [4 5 6]\n",
      " [7 8 9]]\n"
     ]
    }
   ],
   "source": [
    "\n",
    "\n",
    "import numpy as np\n",
    "\n",
    "\n",
    "\n",
    "a = np.array([[1, 2], [3, 4]])\n",
    "\n",
    "print(a.shape)\n",
    "\n",
    "a.shape = (1, 4)\n",
    "\n",
    "print(a)\n",
    "\n",
    "a = a.reshape(-1, 1)\n",
    "\n",
    "print(a)\n",
    "\n",
    "inp = '1 2 3 4 5 6 7 8 9'\n",
    "arr = np.array([int(k) for k in inp.strip().split(' ')]).reshape(3, 3)\n",
    "print(arr)"
   ]
  },
  {
   "cell_type": "code",
   "execution_count": 2,
   "metadata": {},
   "outputs": [
    {
     "name": "stdout",
     "output_type": "stream",
     "text": [
      "[[1 2 3 4]] [[1]\n",
      " [2]\n",
      " [3]\n",
      " [4]]\n",
      "[[1 2]\n",
      " [3 4]]\n",
      "[1 2 3 4]\n"
     ]
    }
   ],
   "source": [
    "\n",
    "a = np.array([[1, 2, 3, 4]])\n",
    "\n",
    "b = np.transpose(a)\n",
    "\n",
    "print(a, b)\n",
    "\n",
    "c = a.reshape((2, 2))\n",
    "\n",
    "print(c)\n",
    "\n",
    "d = c.flatten()\n",
    "\n",
    "print(d)"
   ]
  },
  {
   "cell_type": "code",
   "execution_count": 13,
   "metadata": {},
   "outputs": [
    {
     "name": "stdout",
     "output_type": "stream",
     "text": [
      "[1 2 3 1 2 3]\n",
      "[[1. 0. 1. 0.]\n",
      " [0. 1. 0. 1.]]\n",
      "[[1. 0.]\n",
      " [0. 1.]]\n",
      "[[0. 1. 0. 0. 0. 0. 0.]\n",
      " [0. 0. 1. 0. 0. 0. 0.]\n",
      " [0. 0. 0. 1. 0. 0. 0.]\n",
      " [0. 0. 0. 0. 1. 0. 0.]\n",
      " [0. 0. 0. 0. 0. 1. 0.]\n",
      " [0. 0. 0. 0. 0. 0. 1.]\n",
      " [0. 0. 0. 0. 0. 0. 0.]\n",
      " [0. 0. 0. 0. 0. 0. 0.]]\n",
      "[[0. 0. 1. 0. 0. 0. 0.]\n",
      " [0. 0. 0. 1. 0. 0. 0.]\n",
      " [0. 0. 0. 0. 1. 0. 0.]\n",
      " [0. 0. 0. 0. 0. 1. 0.]\n",
      " [0. 0. 0. 0. 0. 0. 1.]\n",
      " [0. 0. 0. 0. 0. 0. 0.]\n",
      " [0. 0. 0. 0. 0. 0. 0.]\n",
      " [0. 0. 0. 0. 0. 0. 0.]]\n"
     ]
    }
   ],
   "source": [
    "\n",
    "\n",
    "a = np.array([1,2,3])\n",
    "print(np.concatenate((a, a)))\n",
    "\n",
    "a = np.identity(2)\n",
    "print(np.concatenate((a, a), axis=1))\n",
    "\n",
    "\n",
    "# n, m, p = [int(k) for k in input().split(' ')]\n",
    "\n",
    "# a1 = np.empty((n, p))\n",
    "# for i in range(n):\n",
    "#     a1[i] = [int(k) for k in input().split(' ')]\n",
    "# a2 = np.empty((m, p))\n",
    "# for i in range(m):\n",
    "#     a2[i] = [int(k) for k in input().split(' ')]\n",
    "\n",
    "# print(np.concatenate((a1, a2), axis=0))\n",
    "\n",
    "\n",
    "print(np.identity(2))\n",
    "\n",
    "print(np.eye(8, 7, k=1))\n",
    "print(np.eye(8, 7, k=2))"
   ]
  },
  {
   "cell_type": "code",
   "execution_count": 11,
   "metadata": {},
   "outputs": [
    {
     "name": "stdout",
     "output_type": "stream",
     "text": [
      "[ 1.  0. -1.]\n",
      "[-1.41421356  1.41421356]\n",
      "[0.33333333 1.         3.         0.        ]\n",
      "[2 2]\n",
      "27\n",
      "[ 2.82392982e-16  1.00000000e+00  4.21611975e-15 -3.97205465e-15]\n"
     ]
    }
   ],
   "source": [
    "## Polynomials using NumPy\n",
    "\n",
    "import numpy as np\n",
    "\n",
    "# create polynomial using the roots\n",
    "print(np.poly([-1, 1]))\n",
    "\n",
    "# get roots of polynomial\n",
    "print(np.roots([1, 0, -2]))\n",
    "\n",
    "# indefinite integral or antiderivative of polynomial\n",
    "print(np.polyint([1, 2, 3]))\n",
    "\n",
    "# derivative\n",
    "print(np.polyder([1, 2, 3]))\n",
    "\n",
    "# evaluate polynomial at a value\n",
    "print(np.polyval([1, 2, 3], 4))\n",
    "\n",
    "# fit a polynomial of given order to a set of data using least-squares\n",
    "print(np.polyfit([0, 1, 2, 3, 4], [0, 1, 4, 9, 16], 3))\n",
    "\n",
    "\n"
   ]
  },
  {
   "cell_type": "code",
   "execution_count": 5,
   "metadata": {},
   "outputs": [
    {
     "name": "stdout",
     "output_type": "stream",
     "text": [
      "1.0\n",
      "[-0.37228132  5.37228132] [[-0.82456484 -0.41597356]\n",
      " [ 0.56576746 -0.90937671]]\n",
      "[[-2.   1. ]\n",
      " [ 1.5 -0.5]]\n"
     ]
    }
   ],
   "source": [
    "import numpy as np\n",
    "\n",
    "\n",
    "i = np.identity(2)\n",
    "\n",
    "# determinant\n",
    "print(np.linalg.det(i))\n",
    "\n",
    "\n",
    "# eigen values and eigen vectors\n",
    "arr = np.array([[1, 2], [3, 4]])\n",
    "eigen_values, eigen_vectors = np.linalg.eig(arr)\n",
    "print(eigen_values, eigen_vectors)\n",
    "\n",
    "# invesrse\n",
    "print(np.linalg.inv(arr))\n"
   ]
  }
 ],
 "metadata": {
  "kernelspec": {
   "display_name": "Python 3",
   "language": "python",
   "name": "python3"
  },
  "language_info": {
   "codemirror_mode": {
    "name": "ipython",
    "version": 3
   },
   "file_extension": ".py",
   "mimetype": "text/x-python",
   "name": "python",
   "nbconvert_exporter": "python",
   "pygments_lexer": "ipython3",
   "version": "3.7.3"
  }
 },
 "nbformat": 4,
 "nbformat_minor": 2
}
