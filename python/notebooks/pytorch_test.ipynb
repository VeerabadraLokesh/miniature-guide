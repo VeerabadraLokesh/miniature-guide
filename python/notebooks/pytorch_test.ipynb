{
 "cells": [
  {
   "cell_type": "code",
   "execution_count": 72,
   "metadata": {},
   "outputs": [
    {
     "name": "stdout",
     "output_type": "stream",
     "text": [
      "tensor([0.2292, 0.4803, 0.4177], dtype=torch.float64) True\n",
      "tensor([0.1771, 0.7993, 0.1723], dtype=torch.float64) True\n",
      "tensor([0.3444, 0.8791, 0.8676], dtype=torch.float64) False\n",
      "tensor([0.9483, 0.5644, 0.0886], dtype=torch.float64) True\n",
      "tensor([0.3261, 0.0289, 0.7789], dtype=torch.float64) False\n",
      "tensor([0.9782, 0.6163, 0.1120], dtype=torch.float64) True\n",
      "tensor([0.8388, 0.5011, 0.0281], dtype=torch.float64) True\n",
      "tensor([0.0191, 0.0699, 0.6675], dtype=torch.float64) False\n",
      "tensor([0.9292, 0.2194, 0.4994], dtype=torch.float64) True\n",
      "tensor([0.5898, 0.6667, 0.0811], dtype=torch.float64) True\n"
     ]
    }
   ],
   "source": [
    "\n",
    "import torch\n",
    "import numpy as np\n",
    "from scipy.spatial import Delaunay\n",
    "\n",
    "\n",
    "points = np.random.rand(10, 3)\n",
    "\n",
    "points = torch.tensor(points)\n",
    "\n",
    "# point = np.array(points[5].clone().detach()).reshape(1, -1)\n",
    "\n",
    "# points[:, :2] = points[:, :2] - point[:, :2]\n",
    "\n",
    "# dists = torch.norm(points[:, :3], 2, 1, keepdim=False)\n",
    "\n",
    "# print(dists)\n",
    "\n",
    "\n",
    "def in_hull(p, hull):\n",
    "    \"\"\"\n",
    "    :param p: (N, K) test points\n",
    "    :param hull: (M, K) M corners of a box\n",
    "    :return (N) bool\n",
    "    \"\"\"\n",
    "    try:\n",
    "        if not isinstance(hull, Delaunay):\n",
    "            hull = Delaunay(hull)\n",
    "        flag = hull.find_simplex(p) >= 0\n",
    "    except scipy.spatial.qhull.QhullError:\n",
    "        print('Warning: not a hull %s' % str(hull))\n",
    "        flag = np.zeros(p.shape[0], dtype=np.bool)\n",
    "\n",
    "    return flag\n",
    "\n",
    "x, y, z = 1, 1, 0.5\n",
    "\n",
    "hull = np.array(\n",
    "    [[0     ,0   ,0     ],\n",
    "     [0   ,0    ,z     ],\n",
    "     [0   ,y    ,0     ],\n",
    "     [0    ,y    ,z     ],\n",
    "     [x     ,0   ,0     ],\n",
    "     [x   ,0    ,z     ],\n",
    "     [x   ,y    ,0     ],\n",
    "     [x    ,y    ,z     ]]\n",
    ")\n",
    "\n",
    "# print(points)\n",
    "\n",
    "r = in_hull(points , hull)\n",
    "\n",
    "for i in range(len(points)):\n",
    "    print(points[i], r[i])"
   ]
  },
  {
   "cell_type": "code",
   "execution_count": 81,
   "metadata": {},
   "outputs": [
    {
     "data": {
      "text/plain": [
       "array([1, 2, 3, 4, 5, 6, 7, 8, 9])"
      ]
     },
     "execution_count": 81,
     "metadata": {},
     "output_type": "execute_result"
    }
   ],
   "source": [
    "\n",
    "\n",
    "np.unique(np.random.choice(10, 20))\n",
    "\n"
   ]
  }
 ],
 "metadata": {
  "kernelspec": {
   "display_name": "Python 3",
   "language": "python",
   "name": "python3"
  },
  "language_info": {
   "codemirror_mode": {
    "name": "ipython",
    "version": 3
   },
   "file_extension": ".py",
   "mimetype": "text/x-python",
   "name": "python",
   "nbconvert_exporter": "python",
   "pygments_lexer": "ipython3",
   "version": "3.8.3"
  }
 },
 "nbformat": 4,
 "nbformat_minor": 4
}
