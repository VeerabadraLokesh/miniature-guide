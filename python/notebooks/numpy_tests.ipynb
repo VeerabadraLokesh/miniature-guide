{
 "cells": [
  {
   "cell_type": "code",
   "execution_count": 4,
   "metadata": {},
   "outputs": [
    {
     "name": "stdout",
     "output_type": "stream",
     "text": [
      "54504546\n",
      "160024826\n",
      "160024826\n",
      "[2984 7509 7506 ... 7507 6711 6711]\n",
      "[   0    1    2 ... 7509 7510 7511]\n",
      "[  199     2     3 ...  7369   147 11715]\n"
     ]
    }
   ],
   "source": [
    "\n",
    "import os\n",
    "import numpy as np\n",
    "import brotli\n",
    "\n",
    "bin_path = '/home/lokesh/temp/output/pointIndexMap.bin'\n",
    "\n",
    "with open(bin_path, 'rb') as in_file:\n",
    "    compressed_data = in_file.read()\n",
    "\n",
    "print(len(compressed_data))\n",
    "\n",
    "data = brotli.decompress(compressed_data)\n",
    "\n",
    "arr = np.frombuffer(data, dtype=np.int16)\n",
    "\n",
    "counts = np.bincount(arr)\n",
    "\n",
    "print(np.sum(counts))\n",
    "\n",
    "print(len(arr))\n",
    "\n",
    "print(arr)\n",
    "\n",
    "print(np.unique(arr))\n",
    "\n",
    "print(counts)\n"
   ]
  },
  {
   "cell_type": "code",
   "execution_count": 1,
   "metadata": {},
   "outputs": [
    {
     "name": "stdout",
     "output_type": "stream",
     "text": [
      "40000\n",
      "9602\n",
      "40000\n",
      "[0 1 2 3 4]\n"
     ]
    }
   ],
   "source": [
    "\n",
    "import numpy as np\n",
    "import brotli\n",
    "\n",
    "data = np.array([i for i in range(10000)], dtype=np.int32).tobytes()\n",
    "print(len(data))\n",
    "\n",
    "compressed_data = brotli.compress(data)\n",
    "\n",
    "print(len(compressed_data))\n",
    "\n",
    "data = brotli.decompress(compressed_data)\n",
    "\n",
    "print(len(data))\n",
    "\n",
    "data = np.frombuffer(data, dtype=np.int32)\n",
    "\n",
    "print(data[:5])"
   ]
  }
 ],
 "metadata": {
  "kernelspec": {
   "display_name": "Python 3",
   "language": "python",
   "name": "python3"
  },
  "language_info": {
   "codemirror_mode": {
    "name": "ipython",
    "version": 3
   },
   "file_extension": ".py",
   "mimetype": "text/x-python",
   "name": "python",
   "nbconvert_exporter": "python",
   "pygments_lexer": "ipython3",
   "version": "3.8.5"
  }
 },
 "nbformat": 4,
 "nbformat_minor": 4
}
