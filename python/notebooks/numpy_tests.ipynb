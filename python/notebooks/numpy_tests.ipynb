{
 "cells": [
  {
   "cell_type": "code",
   "execution_count": 2,
   "metadata": {},
   "outputs": [
    {
     "name": "stdout",
     "output_type": "stream",
     "text": [
      "366809\n",
      "3300786\n",
      "3300786\n",
      "[123 120 123 ... 123  65  65]\n",
      "[  0   1   2   3   4   5   6   7   8   9  10  11  12  13  14  15  16  17\n",
      "  18  19  20  21  22  23  24  25  26  27  28  29  30  31  32  33  34  35\n",
      "  36  37  38  39  40  41  42  43  44  45  46  47  48  49  50  51  52  53\n",
      "  54  55  56  57  58  59  60  61  62  63  64  65  66  67  68  69  70  71\n",
      "  72  73  74  75  76  77  78  79  80  81  82  83  84  85  86  87  88  89\n",
      "  90  91  92  93  94  95  96  97  98  99 100 101 102 103 104 105 106 107\n",
      " 108 109 110 111 112 113 114 115 116 117 118 119 120 121 122 123]\n",
      "[ 27130  11727 103008  72051  90120  17752 108941  14528  36813  49728\n",
      "  22363  60058 111461      1  48503 105564   3992  70192  21806 108122\n",
      "   5232  16479  18332  80237  12921   9253  24280  13215  15578  52641\n",
      "   7100 101348  13091  34366  14183  62898     14 109022     11   9826\n",
      "      7  12140      2     12      9   3038      4     56   1100      6\n",
      " 150704  56678     30    395     10      2   2175    106      4     12\n",
      "      3    187    547      4     11      2    540  39885  20944  71133\n",
      "      8   1318  20608  80642  26514    197  37156  64795  30207   1921\n",
      "  64146  49694   8759  37677  68225     18  24994  28648  13192  15940\n",
      "  10003  89432  89209  49798  20661  41546     11  15574  12046  47309\n",
      "   1393    245   8092   8380      2   6317      4  98822      3      9\n",
      "   2220      1      1  10289      1 146807     27      1  21285    825\n",
      "    191    658    276   1056]\n",
      "3300786\n"
     ]
    }
   ],
   "source": [
    "\n",
    "import os\n",
    "import numpy as np\n",
    "import brotli\n",
    "\n",
    "bin_path = '/home/lokesh/temp/output/pointIndexMap.bin'\n",
    "bin_path = '/media/lokesh/7d024260-ca89-481e-b39e-9245ad89cff4/home/lokesh/data/minio/deepenai-newdev-eve/rw8adpyw/defaultproject/wSRx3CIv4zNdpTwclPqr9ex4/octree/pointmapping.bin'\n",
    "\n",
    "with open(bin_path, 'rb') as in_file:\n",
    "    compressed_data = in_file.read()\n",
    "\n",
    "print(len(compressed_data))\n",
    "\n",
    "data = brotli.decompress(compressed_data)\n",
    "\n",
    "arr = np.frombuffer(data, dtype=np.int16)\n",
    "\n",
    "counts = np.bincount(arr)\n",
    "\n",
    "print(np.sum(counts))\n",
    "\n",
    "print(len(arr))\n",
    "\n",
    "print(arr)\n",
    "\n",
    "print(np.unique(arr))\n",
    "\n",
    "print(counts)\n",
    "\n",
    "print(np.sum(counts))"
   ]
  },
  {
   "cell_type": "code",
   "execution_count": 1,
   "metadata": {},
   "outputs": [
    {
     "name": "stdout",
     "output_type": "stream",
     "text": [
      "40000\n",
      "9602\n",
      "40000\n",
      "[0 1 2 3 4]\n"
     ]
    }
   ],
   "source": [
    "\n",
    "import numpy as np\n",
    "import brotli\n",
    "\n",
    "data = np.array([i for i in range(10000)], dtype=np.int32).tobytes()\n",
    "print(len(data))\n",
    "\n",
    "compressed_data = brotli.compress(data)\n",
    "\n",
    "print(len(compressed_data))\n",
    "\n",
    "data = brotli.decompress(compressed_data)\n",
    "\n",
    "print(len(data))\n",
    "\n",
    "data = np.frombuffer(data, dtype=np.int32)\n",
    "\n",
    "print(data[:5])"
   ]
  }
 ],
 "metadata": {
  "kernelspec": {
   "display_name": "Python 3",
   "language": "python",
   "name": "python3"
  },
  "language_info": {
   "codemirror_mode": {
    "name": "ipython",
    "version": 3
   },
   "file_extension": ".py",
   "mimetype": "text/x-python",
   "name": "python",
   "nbconvert_exporter": "python",
   "pygments_lexer": "ipython3",
   "version": "3.8.5"
  }
 },
 "nbformat": 4,
 "nbformat_minor": 4
}
